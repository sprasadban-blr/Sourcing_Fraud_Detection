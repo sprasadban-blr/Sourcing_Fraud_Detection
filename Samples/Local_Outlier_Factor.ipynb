{
 "cells": [
  {
   "cell_type": "code",
   "execution_count": 2,
   "metadata": {},
   "outputs": [],
   "source": [
    "# https://scikit-learn.org/stable/auto_examples/neighbors/plot_lof_outlier_detection.html#sphx-glr-auto-examples-neighbors-plot-lof-outlier-detection-py\n",
    "import numpy as np\n",
    "import matplotlib.pyplot as plt\n",
    "from sklearn.neighbors import LocalOutlierFactor"
   ]
  },
  {
   "cell_type": "code",
   "execution_count": 3,
   "metadata": {},
   "outputs": [
    {
     "data": {
      "text/plain": [
       "array([[ 2.14901425,  1.95852071],\n",
       "       [ 2.19430656,  2.45690896],\n",
       "       [ 1.92975399,  1.92975891],\n",
       "       [ 2.47376384,  2.23023042],\n",
       "       [ 1.85915768,  2.16276801],\n",
       "       [ 1.86097469,  1.86028107],\n",
       "       [ 2.07258868,  1.42601593],\n",
       "       [ 1.48252465,  1.83131374],\n",
       "       [ 1.69615066,  2.0942742 ],\n",
       "       [ 1.72759278,  1.57630889],\n",
       "       [ 2.43969463,  1.93226711],\n",
       "       [ 2.02025846,  1.57257554],\n",
       "       [ 1.83668518,  2.03327678],\n",
       "       [ 1.65470193,  2.11270941],\n",
       "       [ 1.81980839,  1.91249188],\n",
       "       [ 1.81948802,  2.55568346],\n",
       "       [ 1.99595083,  1.68268672],\n",
       "       [ 2.24676347,  1.63374691],\n",
       "       [ 2.06265908,  1.41209896],\n",
       "       [ 1.60154419,  2.05905837],\n",
       "       [ 2.22153997,  2.05141048],\n",
       "       [ 1.96530552,  1.90966889],\n",
       "       [ 1.5564434 ,  1.78404674],\n",
       "       [ 1.86180837,  2.31713667],\n",
       "       [ 2.10308549,  1.47108795],\n",
       "       [ 2.09722519,  1.88447532],\n",
       "       [ 1.7969234 ,  2.18350289],\n",
       "       [ 2.30929986,  2.27938404],\n",
       "       [ 1.74823474,  1.90723629],\n",
       "       [ 2.09937903,  2.29266354],\n",
       "       [ 1.85624773,  1.94430231],\n",
       "       [ 1.66809951,  1.64113801],\n",
       "       [ 2.24375775,  2.40687201],\n",
       "       [ 1.97839696,  2.30105987],\n",
       "       [ 2.10849081,  1.80646407],\n",
       "       [ 2.10841868,  2.46141097],\n",
       "       [ 1.98925219,  2.4693931 ],\n",
       "       [ 1.21407647,  2.24657075],\n",
       "       [ 2.02611412,  1.91029779],\n",
       "       [ 2.02752823,  1.40372933],\n",
       "       [ 1.93409843,  2.10713377],\n",
       "       [ 2.44336821,  1.84451893],\n",
       "       [ 1.75745192,  1.84947289],\n",
       "       [ 2.27462064,  2.09862533],\n",
       "       [ 1.84107194,  2.15398023],\n",
       "       [ 2.02912326,  2.2905935 ],\n",
       "       [ 1.78938407,  1.90170136],\n",
       "       [ 1.88236755,  1.56094552],\n",
       "       [ 2.08883608,  2.07831658],\n",
       "       [ 2.00153404,  1.92962386],\n",
       "       [ 1.57538878,  1.8738064 ],\n",
       "       [ 1.89718565,  1.75931682],\n",
       "       [ 1.95161429,  2.12121526],\n",
       "       [ 2.56585577,  2.05237334],\n",
       "       [ 2.07726512,  1.97766623],\n",
       "       [ 1.42436864,  1.99204584],\n",
       "       [ 2.01806906,  2.73897263],\n",
       "       [ 1.94229171,  2.0904642 ],\n",
       "       [ 1.98958647,  1.64939659],\n",
       "       [ 2.34284684,  2.22557991],\n",
       "       [ 2.23730958,  1.72718376],\n",
       "       [ 2.42083829,  1.57944468],\n",
       "       [ 2.17605713,  2.65713669],\n",
       "       [ 1.7028391 ,  1.83011068],\n",
       "       [ 2.02989541,  1.8489573 ],\n",
       "       [ 1.53480097,  2.02056889],\n",
       "       [ 1.68130889,  2.14207773],\n",
       "       [ 1.72417273,  2.46498032],\n",
       "       [ 1.76502401,  1.90338155],\n",
       "       [ 2.24405517,  1.63074071],\n",
       "       [ 2.06823798,  2.39214283],\n",
       "       [ 1.51775503,  2.05539016],\n",
       "       [ 2.07796484,  2.23454686],\n",
       "       [ 1.62891479,  1.60386302],\n",
       "       [ 2.15658247,  2.0890954 ],\n",
       "       [ 2.07514786,  2.10393446],\n",
       "       [ 1.79599258,  2.06967611],\n",
       "       [ 2.08792174,  1.78569457],\n",
       "       [ 2.55973235,  2.14214988],\n",
       "       [ 1.64260895,  2.19696608],\n",
       "       [ 1.7075955 ,  2.23612538],\n",
       "       [ 2.34757867,  1.7537953 ],\n",
       "       [ 2.28901284,  2.12383428],\n",
       "       [ 2.24661805,  2.56903789],\n",
       "       [ 1.92638357,  1.77387915],\n",
       "       [ 1.73314567,  1.75525691],\n",
       "       [ 1.97686949,  2.10234559],\n",
       "       [ 2.08300724,  2.24815497],\n",
       "       [ 2.00390057,  2.43606022],\n",
       "       [ 1.92060295,  2.81605075],\n",
       "       [ 2.1877002 ,  1.74285273],\n",
       "       [ 1.67873225,  2.14474172],\n",
       "       [ 1.93296116,  2.21420015],\n",
       "       [ 2.14197129,  1.97815133],\n",
       "       [ 1.74596188,  1.54554583],\n",
       "       [ 1.86604551,  2.25691964],\n",
       "       [ 2.06422812,  1.62627837],\n",
       "       [ 2.05195428,  2.11559521],\n",
       "       [ 1.73484277,  2.04611753],\n",
       "       [ 2.01746262,  1.65710891],\n",
       "       [-1.85098575, -2.04147929],\n",
       "       [-1.80569344, -1.54309104],\n",
       "       [-2.07024601, -2.07024109],\n",
       "       [-1.52623616, -1.76976958],\n",
       "       [-2.14084232, -1.83723199],\n",
       "       [-2.13902531, -2.13971893],\n",
       "       [-1.92741132, -2.57398407],\n",
       "       [-2.51747535, -2.16868626],\n",
       "       [-2.30384934, -1.9057258 ],\n",
       "       [-2.27240722, -2.42369111],\n",
       "       [-1.56030537, -2.06773289],\n",
       "       [-1.97974154, -2.42742446],\n",
       "       [-2.16331482, -1.96672322],\n",
       "       [-2.34529807, -1.88729059],\n",
       "       [-2.18019161, -2.08750812],\n",
       "       [-2.18051198, -1.44431654],\n",
       "       [-2.00404917, -2.31731328],\n",
       "       [-1.75323653, -2.36625309],\n",
       "       [-1.93734092, -2.58790104],\n",
       "       [-2.39845581, -1.94094163],\n",
       "       [-1.77846003, -1.94858952],\n",
       "       [-2.03469448, -2.09033111],\n",
       "       [-2.4435566 , -2.21595326],\n",
       "       [-2.13819163, -1.68286333],\n",
       "       [-1.89691451, -2.52891205],\n",
       "       [-1.90277481, -2.11552468],\n",
       "       [-2.2030766 , -1.81649711],\n",
       "       [-1.69070014, -1.72061596],\n",
       "       [-2.25176526, -2.09276371],\n",
       "       [-1.90062097, -1.70733646],\n",
       "       [-2.14375227, -2.05569769],\n",
       "       [-2.33190049, -2.35886199],\n",
       "       [-1.75624225, -1.59312799],\n",
       "       [-2.02160304, -1.69894013],\n",
       "       [-1.89150919, -2.19353593],\n",
       "       [-1.89158132, -1.53858903],\n",
       "       [-2.01074781, -1.5306069 ],\n",
       "       [-2.78592353, -1.75342925],\n",
       "       [-1.97388588, -2.08970221],\n",
       "       [-1.97247177, -2.59627067],\n",
       "       [-2.06590157, -1.89286623],\n",
       "       [-1.55663179, -2.15548107],\n",
       "       [-2.24254808, -2.15052711],\n",
       "       [-1.72537936, -1.90137467],\n",
       "       [-2.15892806, -1.84601977],\n",
       "       [-1.97087674, -1.7094065 ],\n",
       "       [-2.21061593, -2.09829864],\n",
       "       [-2.11763245, -2.43905448],\n",
       "       [-1.91116392, -1.92168342],\n",
       "       [-1.99846596, -2.07037614],\n",
       "       [-2.42461122, -2.1261936 ],\n",
       "       [-2.10281435, -2.24068318],\n",
       "       [-2.04838571, -1.87878474],\n",
       "       [-1.43414423, -1.94762666],\n",
       "       [-1.92273488, -2.02233377],\n",
       "       [-2.57563136, -2.00795416],\n",
       "       [-1.98193094, -1.26102737],\n",
       "       [-2.05770829, -1.9095358 ],\n",
       "       [-2.01041353, -2.35060341],\n",
       "       [-1.65715316, -1.77442009],\n",
       "       [-1.76269042, -2.27281624],\n",
       "       [-1.57916171, -2.42055532],\n",
       "       [-1.82394287, -1.34286331],\n",
       "       [-2.2971609 , -2.16988932],\n",
       "       [-1.97010459, -2.1510427 ],\n",
       "       [-2.46519903, -1.97943111],\n",
       "       [-2.31869111, -1.85792227],\n",
       "       [-2.27582727, -1.53501968],\n",
       "       [-2.23497599, -2.09661845],\n",
       "       [-1.75594483, -2.36925929],\n",
       "       [-1.93176202, -1.60785717],\n",
       "       [-2.48224497, -1.94460984],\n",
       "       [-1.92203516, -1.76545314],\n",
       "       [-2.37108521, -2.39613698],\n",
       "       [-1.84341753, -1.9109046 ],\n",
       "       [-1.92485214, -1.89606554],\n",
       "       [-2.20400742, -1.93032389],\n",
       "       [-1.91207826, -2.21430543],\n",
       "       [-1.44026765, -1.85785012],\n",
       "       [-2.35739105, -1.80303392],\n",
       "       [-2.2924045 , -1.76387462],\n",
       "       [-1.65242133, -2.2462047 ],\n",
       "       [-1.71098716, -1.87616572],\n",
       "       [-1.75338195, -1.43096211],\n",
       "       [-2.07361643, -2.22612085],\n",
       "       [-2.26685433, -2.24474309],\n",
       "       [-2.02313051, -1.89765441],\n",
       "       [-1.91699276, -1.75184503],\n",
       "       [-1.99609943, -1.56393978],\n",
       "       [-2.07939705, -1.18394925],\n",
       "       [-1.8122998 , -2.25714727],\n",
       "       [-2.32126775, -1.85525828],\n",
       "       [-2.06703884, -1.78579985],\n",
       "       [-1.85802871, -2.02184867],\n",
       "       [-2.25403812, -2.45445417],\n",
       "       [-2.13395449, -1.74308036],\n",
       "       [-1.93577188, -2.37372163],\n",
       "       [-1.94804572, -1.88440479],\n",
       "       [-2.26515723, -1.95388247],\n",
       "       [-1.98253738, -2.34289109]])"
      ]
     },
     "execution_count": 3,
     "metadata": {},
     "output_type": "execute_result"
    }
   ],
   "source": [
    "np.random.seed(42)\n",
    "\n",
    "# Generate train data\n",
    "X_inliers = 0.3 * np.random.randn(100, 2)\n",
    "X_inliers = np.r_[X_inliers + 2, X_inliers - 2]\n",
    "X_inliers"
   ]
  },
  {
   "cell_type": "code",
   "execution_count": 4,
   "metadata": {},
   "outputs": [
    {
     "data": {
      "text/plain": [
       "array([[ 3.01898458,  1.92614894],\n",
       "       [ 1.57612593,  1.61987267],\n",
       "       [-1.12407079, -1.65126525],\n",
       "       [ 2.47488924,  2.48090716],\n",
       "       [ 2.93657855,  3.30592442],\n",
       "       [ 0.09073919,  0.01213036],\n",
       "       [ 2.38636143,  1.19971145],\n",
       "       [ 1.61573502,  2.36634136],\n",
       "       [ 3.12004273, -1.29603875],\n",
       "       [-0.99533638, -3.24814448],\n",
       "       [ 0.62624113, -3.71246181],\n",
       "       [-0.27521585,  0.34115708],\n",
       "       [-1.70766998,  0.72666608],\n",
       "       [-3.755998  , -3.70121449],\n",
       "       [ 2.58080449, -1.11847487],\n",
       "       [-2.9835159 ,  0.17794608],\n",
       "       [ 2.15994842, -2.27343178],\n",
       "       [ 0.98312381, -3.31722028],\n",
       "       [-3.58654623,  0.25083705],\n",
       "       [ 0.32508097,  1.09943921]])"
      ]
     },
     "execution_count": 4,
     "metadata": {},
     "output_type": "execute_result"
    }
   ],
   "source": [
    "# Generate some outliers\n",
    "X_outliers = np.random.uniform(low=-4, high=4, size=(20, 2))\n",
    "X_outliers"
   ]
  },
  {
   "cell_type": "code",
   "execution_count": 10,
   "metadata": {},
   "outputs": [
    {
     "name": "stdout",
     "output_type": "stream",
     "text": [
      "440\n"
     ]
    }
   ],
   "source": [
    "X = np.r_[X_inliers, X_outliers]\n",
    "print(X.size)\n",
    "\n",
    "n_outliers = len(X_outliers)\n",
    "ground_truth = np.ones(len(X), dtype=int)\n",
    "ground_truth[-n_outliers:] = -1"
   ]
  },
  {
   "cell_type": "code",
   "execution_count": 11,
   "metadata": {},
   "outputs": [
    {
     "data": {
      "text/plain": [
       "array([-0.99994411, -1.14405944, -0.97422441, -1.29043229, -0.96406015,\n",
       "       -0.967451  , -1.16897405, -1.17786476, -1.01083896, -1.14511932,\n",
       "       -1.21255557, -1.05066867, -0.96961357, -1.02846721, -0.96108146,\n",
       "       -1.30563699, -1.01782283, -1.09341031, -1.20053   , -1.048392  ,\n",
       "       -1.04273309, -0.96537973, -1.12978593, -1.04714221, -1.1241528 ,\n",
       "       -0.97795087, -0.97358493, -1.13261793, -0.98280096, -1.02069094,\n",
       "       -0.95891097, -1.1491003 , -1.11886905, -0.99855726, -0.99357848,\n",
       "       -1.13283666, -1.1460512 , -1.87981613, -0.95747372, -1.2240096 ,\n",
       "       -0.9432555 , -1.25135605, -1.00309851, -1.10715506, -0.97725017,\n",
       "       -0.99886729, -0.97739557, -1.09329811, -0.99310409, -0.96318902,\n",
       "       -1.08969429, -0.97382438, -0.94892287, -1.42556212, -0.96379941,\n",
       "       -1.27724298, -1.46492263, -0.94595752, -1.04083691, -1.1733885 ,\n",
       "       -1.06562769, -1.29284358, -1.32423841, -1.06358314, -0.96642636,\n",
       "       -1.08777278, -1.03217634, -1.24655122, -0.97201908, -1.09366836,\n",
       "       -1.10173896, -1.12032974, -0.98536222, -1.23121125, -1.00976101,\n",
       "       -0.98561163, -0.97602593, -0.99192456, -1.41236662, -1.06452504,\n",
       "       -1.05713189, -1.2136666 , -1.10038859, -1.22864255, -0.97030484,\n",
       "       -1.07896525, -0.94700683, -0.99410424, -1.13412412, -1.66221208,\n",
       "       -1.04824088, -1.03360571, -0.95298364, -0.99688803, -1.12097791,\n",
       "       -0.98898182, -1.04674539, -0.96908553, -1.00774413, -1.04236997,\n",
       "       -0.99929637, -1.1484896 , -0.97212675, -1.33350226, -0.96943838,\n",
       "       -0.96802782, -1.1805622 , -1.19791797, -1.01529652, -1.15267042,\n",
       "       -1.21377588, -1.05831363, -0.97110275, -1.02631261, -0.96154064,\n",
       "       -1.33940307, -1.01699286, -1.10239122, -1.19346895, -1.05737435,\n",
       "       -1.04877531, -0.96442079, -1.15370196, -1.04909785, -1.13388154,\n",
       "       -0.97715087, -0.97998371, -1.13218473, -0.98956357, -1.0266486 ,\n",
       "       -0.95728791, -1.16047442, -1.13703189, -0.99496821, -0.99185635,\n",
       "       -1.14488661, -1.15337634, -1.93321727, -0.95681998, -1.19901531,\n",
       "       -0.94185764, -1.25129859, -1.01278495, -1.11041713, -0.9840512 ,\n",
       "       -0.99559016, -0.97848957, -1.1047896 , -0.99220254, -0.96275604,\n",
       "       -1.09594137, -0.97642952, -0.9472918 , -1.4630011 , -0.963528  ,\n",
       "       -1.28600243, -1.48850217, -0.94456349, -1.04606649, -1.161065  ,\n",
       "       -1.06819373, -1.29744066, -1.37737915, -1.06447487, -0.96507061,\n",
       "       -1.09900693, -1.02870987, -1.27566788, -0.97400916, -1.10264963,\n",
       "       -1.1115921 , -1.13262118, -0.98258158, -1.2515635 , -1.00945605,\n",
       "       -0.98441776, -0.98095197, -0.99020516, -1.45102246, -1.079111  ,\n",
       "       -1.06523549, -1.21664049, -1.10447627, -1.26026277, -0.97029882,\n",
       "       -1.08183888, -0.94565067, -0.99915349, -1.14199636, -1.69275528,\n",
       "       -1.04600992, -1.03079579, -0.95042247, -0.99624963, -1.15334842,\n",
       "       -0.99423553, -1.05218301, -0.96807723, -1.01245463, -1.04780755,\n",
       "       -2.34464971, -1.2615727 , -2.07471657, -1.36068756, -3.41600941,\n",
       "       -5.79017284, -1.75216951, -1.22569556, -8.1179078 , -3.93211812,\n",
       "       -6.8671737 , -5.60730006, -5.28475732, -6.61647574, -7.06687309,\n",
       "       -5.75753448, -6.284507  , -6.35571743, -6.88230317, -4.8455449 ])"
      ]
     },
     "execution_count": 11,
     "metadata": {},
     "output_type": "execute_result"
    }
   ],
   "source": [
    "# fit the model for outlier detection (default)\n",
    "clf = LocalOutlierFactor(n_neighbors=20, contamination=0.1)\n",
    "# use fit_predict to compute the predicted labels of the training samples\n",
    "# (when LOF is used for outlier detection, the estimator has no predict,\n",
    "# decision_function and score_samples methods).\n",
    "y_pred = clf.fit_predict(X)\n",
    "n_errors = (y_pred != ground_truth).sum()\n",
    "X_scores = clf.negative_outlier_factor_\n",
    "X_scores"
   ]
  },
  {
   "cell_type": "code",
   "execution_count": 12,
   "metadata": {},
   "outputs": [
    {
     "data": {
      "text/plain": [
       "220"
      ]
     },
     "execution_count": 12,
     "metadata": {},
     "output_type": "execute_result"
    }
   ],
   "source": [
    "X_scores.size"
   ]
  },
  {
   "cell_type": "code",
   "execution_count": 13,
   "metadata": {},
   "outputs": [
    {
     "data": {
      "image/png": "[encoded data removed]",
      "text/plain": [
       "<Figure size 640x480 with 1 Axes>"
      ]
     },
     "metadata": {},
     "output_type": "display_data"
    }
   ],
   "source": [
    "plt.title(\"Local Outlier Factor (LOF)\")\n",
    "plt.scatter(X[:, 0], X[:, 1], color=\"k\", s=3.0, label=\"Data points\")\n",
    "# plot circles with radius proportional to the outlier scores\n",
    "radius = (X_scores.max() - X_scores) / (X_scores.max() - X_scores.min())\n",
    "plt.scatter(\n",
    "    X[:, 0],\n",
    "    X[:, 1],\n",
    "    s=1000 * radius,\n",
    "    edgecolors=\"r\",\n",
    "    facecolors=\"none\",\n",
    "    label=\"Outlier scores\",\n",
    ")\n",
    "plt.axis(\"tight\")\n",
    "plt.xlim((-5, 5))\n",
    "plt.ylim((-5, 5))\n",
    "plt.xlabel(\"prediction errors: %d\" % (n_errors))\n",
    "legend = plt.legend(loc=\"upper left\")\n",
    "legend.legendHandles[0]._sizes = [10]\n",
    "legend.legendHandles[1]._sizes = [20]\n",
    "plt.show()"
   ]
  },
  {
   "cell_type": "code",
   "execution_count": null,
   "metadata": {},
   "outputs": [],
   "source": []
  }
 ],
 "metadata": {
  "kernelspec": {
   "display_name": "Python 3.10.7 64-bit",
   "language": "python",
   "name": "python3"
  },
  "language_info": {
   "codemirror_mode": {
    "name": "ipython",
    "version": 3
   },
   "file_extension": ".py",
   "mimetype": "text/x-python",
   "name": "python",
   "nbconvert_exporter": "python",
   "pygments_lexer": "ipython3",
   "version": "3.10.7"
  },
  "orig_nbformat": 4,
  "vscode": {
   "interpreter": {
    "hash": "aee8b7b246df8f9039afb4144a1f6fd8d2ca17a180786b69acc140d282b71a49"
   }
  }
 },
 "nbformat": 4,
 "nbformat_minor": 2
}
