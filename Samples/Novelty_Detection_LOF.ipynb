{
 "cells": [
  {
   "cell_type": "code",
   "execution_count": 1,
   "metadata": {},
   "outputs": [],
   "source": [
    "# https://scikit-learn.org/stable/auto_examples/neighbors/plot_lof_novelty_detection.html#sphx-glr-auto-examples-neighbors-plot-lof-novelty-detection-py\n",
    "import numpy as np\n",
    "import matplotlib\n",
    "import matplotlib.pyplot as plt\n",
    "from sklearn.neighbors import LocalOutlierFactor"
   ]
  },
  {
   "cell_type": "code",
   "execution_count": 2,
   "metadata": {},
   "outputs": [
    {
     "data": {
      "text/plain": [
       "array([[ 2.14901425,  1.95852071],\n",
       "       [ 2.19430656,  2.45690896],\n",
       "       [ 1.92975399,  1.92975891],\n",
       "       [ 2.47376384,  2.23023042],\n",
       "       [ 1.85915768,  2.16276801],\n",
       "       [ 1.86097469,  1.86028107],\n",
       "       [ 2.07258868,  1.42601593],\n",
       "       [ 1.48252465,  1.83131374],\n",
       "       [ 1.69615066,  2.0942742 ],\n",
       "       [ 1.72759278,  1.57630889],\n",
       "       [ 2.43969463,  1.93226711],\n",
       "       [ 2.02025846,  1.57257554],\n",
       "       [ 1.83668518,  2.03327678],\n",
       "       [ 1.65470193,  2.11270941],\n",
       "       [ 1.81980839,  1.91249188],\n",
       "       [ 1.81948802,  2.55568346],\n",
       "       [ 1.99595083,  1.68268672],\n",
       "       [ 2.24676347,  1.63374691],\n",
       "       [ 2.06265908,  1.41209896],\n",
       "       [ 1.60154419,  2.05905837],\n",
       "       [ 2.22153997,  2.05141048],\n",
       "       [ 1.96530552,  1.90966889],\n",
       "       [ 1.5564434 ,  1.78404674],\n",
       "       [ 1.86180837,  2.31713667],\n",
       "       [ 2.10308549,  1.47108795],\n",
       "       [ 2.09722519,  1.88447532],\n",
       "       [ 1.7969234 ,  2.18350289],\n",
       "       [ 2.30929986,  2.27938404],\n",
       "       [ 1.74823474,  1.90723629],\n",
       "       [ 2.09937903,  2.29266354],\n",
       "       [ 1.85624773,  1.94430231],\n",
       "       [ 1.66809951,  1.64113801],\n",
       "       [ 2.24375775,  2.40687201],\n",
       "       [ 1.97839696,  2.30105987],\n",
       "       [ 2.10849081,  1.80646407],\n",
       "       [ 2.10841868,  2.46141097],\n",
       "       [ 1.98925219,  2.4693931 ],\n",
       "       [ 1.21407647,  2.24657075],\n",
       "       [ 2.02611412,  1.91029779],\n",
       "       [ 2.02752823,  1.40372933],\n",
       "       [ 1.93409843,  2.10713377],\n",
       "       [ 2.44336821,  1.84451893],\n",
       "       [ 1.75745192,  1.84947289],\n",
       "       [ 2.27462064,  2.09862533],\n",
       "       [ 1.84107194,  2.15398023],\n",
       "       [ 2.02912326,  2.2905935 ],\n",
       "       [ 1.78938407,  1.90170136],\n",
       "       [ 1.88236755,  1.56094552],\n",
       "       [ 2.08883608,  2.07831658],\n",
       "       [ 2.00153404,  1.92962386],\n",
       "       [ 1.57538878,  1.8738064 ],\n",
       "       [ 1.89718565,  1.75931682],\n",
       "       [ 1.95161429,  2.12121526],\n",
       "       [ 2.56585577,  2.05237334],\n",
       "       [ 2.07726512,  1.97766623],\n",
       "       [ 1.42436864,  1.99204584],\n",
       "       [ 2.01806906,  2.73897263],\n",
       "       [ 1.94229171,  2.0904642 ],\n",
       "       [ 1.98958647,  1.64939659],\n",
       "       [ 2.34284684,  2.22557991],\n",
       "       [ 2.23730958,  1.72718376],\n",
       "       [ 2.42083829,  1.57944468],\n",
       "       [ 2.17605713,  2.65713669],\n",
       "       [ 1.7028391 ,  1.83011068],\n",
       "       [ 2.02989541,  1.8489573 ],\n",
       "       [ 1.53480097,  2.02056889],\n",
       "       [ 1.68130889,  2.14207773],\n",
       "       [ 1.72417273,  2.46498032],\n",
       "       [ 1.76502401,  1.90338155],\n",
       "       [ 2.24405517,  1.63074071],\n",
       "       [ 2.06823798,  2.39214283],\n",
       "       [ 1.51775503,  2.05539016],\n",
       "       [ 2.07796484,  2.23454686],\n",
       "       [ 1.62891479,  1.60386302],\n",
       "       [ 2.15658247,  2.0890954 ],\n",
       "       [ 2.07514786,  2.10393446],\n",
       "       [ 1.79599258,  2.06967611],\n",
       "       [ 2.08792174,  1.78569457],\n",
       "       [ 2.55973235,  2.14214988],\n",
       "       [ 1.64260895,  2.19696608],\n",
       "       [ 1.7075955 ,  2.23612538],\n",
       "       [ 2.34757867,  1.7537953 ],\n",
       "       [ 2.28901284,  2.12383428],\n",
       "       [ 2.24661805,  2.56903789],\n",
       "       [ 1.92638357,  1.77387915],\n",
       "       [ 1.73314567,  1.75525691],\n",
       "       [ 1.97686949,  2.10234559],\n",
       "       [ 2.08300724,  2.24815497],\n",
       "       [ 2.00390057,  2.43606022],\n",
       "       [ 1.92060295,  2.81605075],\n",
       "       [ 2.1877002 ,  1.74285273],\n",
       "       [ 1.67873225,  2.14474172],\n",
       "       [ 1.93296116,  2.21420015],\n",
       "       [ 2.14197129,  1.97815133],\n",
       "       [ 1.74596188,  1.54554583],\n",
       "       [ 1.86604551,  2.25691964],\n",
       "       [ 2.06422812,  1.62627837],\n",
       "       [ 2.05195428,  2.11559521],\n",
       "       [ 1.73484277,  2.04611753],\n",
       "       [ 2.01746262,  1.65710891],\n",
       "       [-1.85098575, -2.04147929],\n",
       "       [-1.80569344, -1.54309104],\n",
       "       [-2.07024601, -2.07024109],\n",
       "       [-1.52623616, -1.76976958],\n",
       "       [-2.14084232, -1.83723199],\n",
       "       [-2.13902531, -2.13971893],\n",
       "       [-1.92741132, -2.57398407],\n",
       "       [-2.51747535, -2.16868626],\n",
       "       [-2.30384934, -1.9057258 ],\n",
       "       [-2.27240722, -2.42369111],\n",
       "       [-1.56030537, -2.06773289],\n",
       "       [-1.97974154, -2.42742446],\n",
       "       [-2.16331482, -1.96672322],\n",
       "       [-2.34529807, -1.88729059],\n",
       "       [-2.18019161, -2.08750812],\n",
       "       [-2.18051198, -1.44431654],\n",
       "       [-2.00404917, -2.31731328],\n",
       "       [-1.75323653, -2.36625309],\n",
       "       [-1.93734092, -2.58790104],\n",
       "       [-2.39845581, -1.94094163],\n",
       "       [-1.77846003, -1.94858952],\n",
       "       [-2.03469448, -2.09033111],\n",
       "       [-2.4435566 , -2.21595326],\n",
       "       [-2.13819163, -1.68286333],\n",
       "       [-1.89691451, -2.52891205],\n",
       "       [-1.90277481, -2.11552468],\n",
       "       [-2.2030766 , -1.81649711],\n",
       "       [-1.69070014, -1.72061596],\n",
       "       [-2.25176526, -2.09276371],\n",
       "       [-1.90062097, -1.70733646],\n",
       "       [-2.14375227, -2.05569769],\n",
       "       [-2.33190049, -2.35886199],\n",
       "       [-1.75624225, -1.59312799],\n",
       "       [-2.02160304, -1.69894013],\n",
       "       [-1.89150919, -2.19353593],\n",
       "       [-1.89158132, -1.53858903],\n",
       "       [-2.01074781, -1.5306069 ],\n",
       "       [-2.78592353, -1.75342925],\n",
       "       [-1.97388588, -2.08970221],\n",
       "       [-1.97247177, -2.59627067],\n",
       "       [-2.06590157, -1.89286623],\n",
       "       [-1.55663179, -2.15548107],\n",
       "       [-2.24254808, -2.15052711],\n",
       "       [-1.72537936, -1.90137467],\n",
       "       [-2.15892806, -1.84601977],\n",
       "       [-1.97087674, -1.7094065 ],\n",
       "       [-2.21061593, -2.09829864],\n",
       "       [-2.11763245, -2.43905448],\n",
       "       [-1.91116392, -1.92168342],\n",
       "       [-1.99846596, -2.07037614],\n",
       "       [-2.42461122, -2.1261936 ],\n",
       "       [-2.10281435, -2.24068318],\n",
       "       [-2.04838571, -1.87878474],\n",
       "       [-1.43414423, -1.94762666],\n",
       "       [-1.92273488, -2.02233377],\n",
       "       [-2.57563136, -2.00795416],\n",
       "       [-1.98193094, -1.26102737],\n",
       "       [-2.05770829, -1.9095358 ],\n",
       "       [-2.01041353, -2.35060341],\n",
       "       [-1.65715316, -1.77442009],\n",
       "       [-1.76269042, -2.27281624],\n",
       "       [-1.57916171, -2.42055532],\n",
       "       [-1.82394287, -1.34286331],\n",
       "       [-2.2971609 , -2.16988932],\n",
       "       [-1.97010459, -2.1510427 ],\n",
       "       [-2.46519903, -1.97943111],\n",
       "       [-2.31869111, -1.85792227],\n",
       "       [-2.27582727, -1.53501968],\n",
       "       [-2.23497599, -2.09661845],\n",
       "       [-1.75594483, -2.36925929],\n",
       "       [-1.93176202, -1.60785717],\n",
       "       [-2.48224497, -1.94460984],\n",
       "       [-1.92203516, -1.76545314],\n",
       "       [-2.37108521, -2.39613698],\n",
       "       [-1.84341753, -1.9109046 ],\n",
       "       [-1.92485214, -1.89606554],\n",
       "       [-2.20400742, -1.93032389],\n",
       "       [-1.91207826, -2.21430543],\n",
       "       [-1.44026765, -1.85785012],\n",
       "       [-2.35739105, -1.80303392],\n",
       "       [-2.2924045 , -1.76387462],\n",
       "       [-1.65242133, -2.2462047 ],\n",
       "       [-1.71098716, -1.87616572],\n",
       "       [-1.75338195, -1.43096211],\n",
       "       [-2.07361643, -2.22612085],\n",
       "       [-2.26685433, -2.24474309],\n",
       "       [-2.02313051, -1.89765441],\n",
       "       [-1.91699276, -1.75184503],\n",
       "       [-1.99609943, -1.56393978],\n",
       "       [-2.07939705, -1.18394925],\n",
       "       [-1.8122998 , -2.25714727],\n",
       "       [-2.32126775, -1.85525828],\n",
       "       [-2.06703884, -1.78579985],\n",
       "       [-1.85802871, -2.02184867],\n",
       "       [-2.25403812, -2.45445417],\n",
       "       [-2.13395449, -1.74308036],\n",
       "       [-1.93577188, -2.37372163],\n",
       "       [-1.94804572, -1.88440479],\n",
       "       [-2.26515723, -1.95388247],\n",
       "       [-1.98253738, -2.34289109]])"
      ]
     },
     "execution_count": 2,
     "metadata": {},
     "output_type": "execute_result"
    }
   ],
   "source": [
    "np.random.seed(42)\n",
    "\n",
    "xx, yy = np.meshgrid(np.linspace(-5, 5, 500), np.linspace(-5, 5, 500))\n",
    "# Generate normal (not abnormal) training observations\n",
    "X = 0.3 * np.random.randn(100, 2)\n",
    "X_train = np.r_[X + 2, X - 2]\n",
    "X_train"
   ]
  },
  {
   "cell_type": "code",
   "execution_count": 3,
   "metadata": {},
   "outputs": [
    {
     "data": {
      "text/plain": [
       "array([[ 2.10733621,  2.16823536],\n",
       "       [ 2.32491537,  2.31614062],\n",
       "       [ 1.58669919,  1.71865249],\n",
       "       [ 2.15451058,  2.15413579],\n",
       "       [ 2.15451431,  3.15581945],\n",
       "       [ 2.17126715,  2.34066969],\n",
       "       [ 2.28620053,  2.19541738],\n",
       "       [ 1.90541923,  2.22769077],\n",
       "       [ 1.76815244,  1.92895442],\n",
       "       [ 1.85439094,  2.02456224],\n",
       "       [ 2.69439757,  1.43982044],\n",
       "       [ 2.20587806,  1.51618524],\n",
       "       [ 1.85842044,  2.32668518],\n",
       "       [ 2.01928401,  1.67667657],\n",
       "       [ 1.78540889,  2.20387932],\n",
       "       [ 1.78089001,  2.06493758],\n",
       "       [ 2.01367155,  1.8045199 ],\n",
       "       [ 2.64318323,  2.19017571],\n",
       "       [ 1.39245722,  2.05593629],\n",
       "       [ 1.80146406,  2.25573   ],\n",
       "       [-1.89266379, -1.83176464],\n",
       "       [-1.67508463, -1.68385938],\n",
       "       [-2.41330081, -2.28134751],\n",
       "       [-1.84548942, -1.84586421],\n",
       "       [-1.84548569, -0.84418055],\n",
       "       [-1.82873285, -1.65933031],\n",
       "       [-1.71379947, -1.80458262],\n",
       "       [-2.09458077, -1.77230923],\n",
       "       [-2.23184756, -2.07104558],\n",
       "       [-2.14560906, -1.97543776],\n",
       "       [-1.30560243, -2.56017956],\n",
       "       [-1.79412194, -2.48381476],\n",
       "       [-2.14157956, -1.67331482],\n",
       "       [-1.98071599, -2.32332343],\n",
       "       [-2.21459111, -1.79612068],\n",
       "       [-2.21910999, -1.93506242],\n",
       "       [-1.98632845, -2.1954801 ],\n",
       "       [-1.35681677, -1.80982429],\n",
       "       [-2.60754278, -1.94406371],\n",
       "       [-2.19853594, -1.74427   ]])"
      ]
     },
     "execution_count": 3,
     "metadata": {},
     "output_type": "execute_result"
    }
   ],
   "source": [
    "# Generate new normal (not abnormal) observations\n",
    "X = 0.3 * np.random.randn(20, 2)\n",
    "X_test = np.r_[X + 2, X - 2]\n",
    "X_test"
   ]
  },
  {
   "cell_type": "code",
   "execution_count": 4,
   "metadata": {},
   "outputs": [
    {
     "data": {
      "text/plain": [
       "array([[-0.48822863, -3.37234895],\n",
       "       [-3.79719405,  3.70118732],\n",
       "       [ 2.68784096,  1.56779365],\n",
       "       [-0.72837644, -2.61364544],\n",
       "       [-2.74850366, -1.99805681],\n",
       "       [ 0.39381332,  1.71676738],\n",
       "       [ 1.28157901, -1.76052882],\n",
       "       [ 3.63892225,  1.90317533],\n",
       "       [ 0.43483242,  0.89376597],\n",
       "       [-0.6431995 , -2.01815208],\n",
       "       [-1.15221857,  2.06276888],\n",
       "       [-3.88485209, -3.07141888],\n",
       "       [-3.63197886, -3.67416958],\n",
       "       [ 2.84368467,  1.62926288],\n",
       "       [-0.20660937, -3.21732671],\n",
       "       [-0.067073  , -0.21222583],\n",
       "       [-2.61438504, -0.52918681],\n",
       "       [-0.81196212,  0.92680078],\n",
       "       [ 1.08074921, -3.63756792],\n",
       "       [-1.00309908,  1.00687933]])"
      ]
     },
     "execution_count": 4,
     "metadata": {},
     "output_type": "execute_result"
    }
   ],
   "source": [
    "# Generate some abnormal novel observations\n",
    "X_outliers = np.random.uniform(low=-4, high=4, size=(20, 2))\n",
    "X_outliers"
   ]
  },
  {
   "cell_type": "code",
   "execution_count": 7,
   "metadata": {},
   "outputs": [],
   "source": [
    "# fit the model for novelty detection (novelty=True)\n",
    "clf = LocalOutlierFactor(n_neighbors=20, novelty=True, contamination=0.1)\n",
    "clf.fit(X_train)\n",
    "# DO NOT use predict, decision_function and score_samples on X_train as this\n",
    "# would give wrong results but only on new unseen data (not used in X_train),\n",
    "# e.g. X_test, X_outliers or the meshgrid\n",
    "y_pred_test = clf.predict(X_test)\n",
    "y_pred_outliers = clf.predict(X_outliers)"
   ]
  },
  {
   "cell_type": "code",
   "execution_count": 8,
   "metadata": {},
   "outputs": [
    {
     "data": {
      "text/plain": [
       "8"
      ]
     },
     "execution_count": 8,
     "metadata": {},
     "output_type": "execute_result"
    }
   ],
   "source": [
    "n_error_test = y_pred_test[y_pred_test == -1].size\n",
    "n_error_test"
   ]
  },
  {
   "cell_type": "code",
   "execution_count": 10,
   "metadata": {},
   "outputs": [
    {
     "data": {
      "text/plain": [
       "20"
      ]
     },
     "execution_count": 10,
     "metadata": {},
     "output_type": "execute_result"
    }
   ],
   "source": [
    "n_error_outliers = y_pred_outliers[y_pred_outliers == -1].size\n",
    "n_error_outliers"
   ]
  },
  {
   "cell_type": "code",
   "execution_count": 11,
   "metadata": {},
   "outputs": [
    {
     "data": {
      "image/png": "[encoded data removed]",
      "text/plain": [
       "<Figure size 640x480 with 1 Axes>"
      ]
     },
     "metadata": {},
     "output_type": "display_data"
    }
   ],
   "source": [
    "# plot the learned frontier, the points, and the nearest vectors to the plane\n",
    "Z = clf.decision_function(np.c_[xx.ravel(), yy.ravel()])\n",
    "Z = Z.reshape(xx.shape)\n",
    "\n",
    "plt.title(\"Novelty Detection with LOF\")\n",
    "plt.contourf(xx, yy, Z, levels=np.linspace(Z.min(), 0, 7), cmap=plt.cm.PuBu)\n",
    "a = plt.contour(xx, yy, Z, levels=[0], linewidths=2, colors=\"darkred\")\n",
    "plt.contourf(xx, yy, Z, levels=[0, Z.max()], colors=\"palevioletred\")\n",
    "\n",
    "s = 40\n",
    "b1 = plt.scatter(X_train[:, 0], X_train[:, 1], c=\"white\", s=s, edgecolors=\"k\")\n",
    "b2 = plt.scatter(X_test[:, 0], X_test[:, 1], c=\"blueviolet\", s=s, edgecolors=\"k\")\n",
    "c = plt.scatter(X_outliers[:, 0], X_outliers[:, 1], c=\"gold\", s=s, edgecolors=\"k\")\n",
    "plt.axis(\"tight\")\n",
    "plt.xlim((-5, 5))\n",
    "plt.ylim((-5, 5))\n",
    "plt.legend(\n",
    "    [a.collections[0], b1, b2, c],\n",
    "    [\n",
    "        \"learned frontier\",\n",
    "        \"training observations\",\n",
    "        \"new regular observations\",\n",
    "        \"new abnormal observations\",\n",
    "    ],\n",
    "    loc=\"upper left\",\n",
    "    prop=matplotlib.font_manager.FontProperties(size=11),\n",
    ")\n",
    "plt.xlabel(\n",
    "    \"errors novel regular: %d/40 ; errors novel abnormal: %d/40\"\n",
    "    % (n_error_test, n_error_outliers)\n",
    ")\n",
    "plt.show()"
   ]
  },
  {
   "cell_type": "code",
   "execution_count": null,
   "metadata": {},
   "outputs": [],
   "source": []
  }
 ],
 "metadata": {
  "kernelspec": {
   "display_name": "Python 3.10.7 64-bit",
   "language": "python",
   "name": "python3"
  },
  "language_info": {
   "codemirror_mode": {
    "name": "ipython",
    "version": 3
   },
   "file_extension": ".py",
   "mimetype": "text/x-python",
   "name": "python",
   "nbconvert_exporter": "python",
   "pygments_lexer": "ipython3",
   "version": "3.10.7"
  },
  "orig_nbformat": 4,
  "vscode": {
   "interpreter": {
    "hash": "aee8b7b246df8f9039afb4144a1f6fd8d2ca17a180786b69acc140d282b71a49"
   }
  }
 },
 "nbformat": 4,
 "nbformat_minor": 2
}
