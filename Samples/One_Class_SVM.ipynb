{
 "cells": [
  {
   "cell_type": "code",
   "execution_count": 1,
   "metadata": {},
   "outputs": [],
   "source": [
    "# https://scikit-learn.org/stable/auto_examples/svm/plot_oneclass.html#sphx-glr-auto-examples-svm-plot-oneclass-py\n",
    "\n",
    "import numpy as np\n",
    "import matplotlib.pyplot as plt\n",
    "import matplotlib.font_manager\n",
    "from sklearn import svm"
   ]
  },
  {
   "cell_type": "code",
   "execution_count": 2,
   "metadata": {},
   "outputs": [
    {
     "data": {
      "text/plain": [
       "array([[ 1.8226299 ,  2.47884599],\n",
       "       [ 1.82732834,  2.3045956 ],\n",
       "       [ 1.94494967,  2.0171059 ],\n",
       "       [ 1.89569332,  1.81878893],\n",
       "       [ 2.82329242,  2.37108295],\n",
       "       [ 2.79457147,  2.0894141 ],\n",
       "       [ 2.16538729,  1.85598478],\n",
       "       [ 1.6489653 ,  2.00004765],\n",
       "       [ 2.46739182,  2.21853526],\n",
       "       [ 1.89888099,  1.80921363],\n",
       "       [ 2.13542859,  2.10326486],\n",
       "       [ 1.67081756,  1.87203114],\n",
       "       [ 2.3356869 ,  2.15620127],\n",
       "       [ 1.94991273,  1.9729603 ],\n",
       "       [ 1.7227195 ,  2.51158303],\n",
       "       [ 2.13431658,  1.922055  ],\n",
       "       [ 1.43110166,  2.54920343],\n",
       "       [ 1.92027714,  2.0622612 ],\n",
       "       [ 2.10621676,  1.99830267],\n",
       "       [ 2.10346342,  2.22094143],\n",
       "       [ 1.86443164,  2.12099214],\n",
       "       [ 2.04924052,  2.20392449],\n",
       "       [ 2.71292117,  1.67565646],\n",
       "       [ 2.32121793,  1.96214473],\n",
       "       [ 1.8962252 ,  2.15214864],\n",
       "       [ 1.94979537,  1.60794564],\n",
       "       [ 2.07261138,  1.87037816],\n",
       "       [ 1.21718978,  2.08424615],\n",
       "       [ 2.31718346,  1.71931567],\n",
       "       [ 1.70775814,  2.78250343],\n",
       "       [ 2.10625535,  2.1255461 ],\n",
       "       [ 1.76202385,  1.99437893],\n",
       "       [ 2.29943323,  2.03640309],\n",
       "       [ 1.96954389,  2.42569399],\n",
       "       [ 1.95604664,  2.28854748],\n",
       "       [ 2.34682713,  2.17952484],\n",
       "       [ 2.06667701,  2.56098119],\n",
       "       [ 2.38131633,  1.66290335],\n",
       "       [ 2.47673776,  2.34661406],\n",
       "       [ 1.92762112,  1.90159903],\n",
       "       [ 1.88259835,  1.91868374],\n",
       "       [ 2.07883458,  2.17970357],\n",
       "       [ 1.92202245,  1.76354859],\n",
       "       [ 2.00034583,  2.09091501],\n",
       "       [ 2.21013017,  2.02348739],\n",
       "       [ 2.09107187,  2.18102991],\n",
       "       [ 1.84797433,  2.33352144],\n",
       "       [ 1.76796767,  2.37697477],\n",
       "       [ 2.15061991,  2.31498463],\n",
       "       [ 2.02428842,  2.03551053],\n",
       "       [ 2.26337653,  1.82462273],\n",
       "       [ 1.8205353 ,  2.33413663],\n",
       "       [ 1.83681736,  2.00540645],\n",
       "       [ 1.78399671,  1.92723828],\n",
       "       [ 2.45188942,  1.61772588],\n",
       "       [ 2.08513822,  2.00660469],\n",
       "       [ 2.26110185,  1.81567886],\n",
       "       [ 1.80251309,  2.71682609],\n",
       "       [ 2.16095742,  2.08351354],\n",
       "       [ 1.9340515 ,  1.92556176],\n",
       "       [ 2.05984731,  2.07785735],\n",
       "       [ 1.86742338,  1.80634926],\n",
       "       [ 1.7943423 ,  2.1314398 ],\n",
       "       [ 1.85062002,  1.99262779],\n",
       "       [ 1.76060535,  2.12023831],\n",
       "       [ 1.65599208,  1.88469539],\n",
       "       [ 2.03082049,  1.92873589],\n",
       "       [ 1.7891332 ,  2.34708775],\n",
       "       [ 1.65088079,  2.33165684],\n",
       "       [ 1.83288127,  2.49898656],\n",
       "       [ 1.73333571,  1.93857761],\n",
       "       [ 1.29031816,  1.76333179],\n",
       "       [ 1.92009707,  2.39500142],\n",
       "       [ 2.1530167 ,  2.20815817],\n",
       "       [ 2.03193672,  1.69662303],\n",
       "       [ 2.12048743,  2.19183998],\n",
       "       [ 2.0463794 ,  1.85192638],\n",
       "       [ 1.7701909 ,  1.91392356],\n",
       "       [ 2.13936025,  2.11635621],\n",
       "       [ 2.16532631,  2.22039747],\n",
       "       [ 1.97169964,  2.03647257],\n",
       "       [ 1.68605875,  1.90853213],\n",
       "       [ 1.6780596 ,  1.78308178],\n",
       "       [ 2.54826981,  2.00438581],\n",
       "       [ 1.96294027,  1.64907282],\n",
       "       [ 1.96767478,  1.91610838],\n",
       "       [ 2.55234833,  2.14557658],\n",
       "       [ 1.61245674,  1.8377753 ],\n",
       "       [ 1.8806363 ,  1.40240962],\n",
       "       [ 2.05021055,  2.10166658],\n",
       "       [ 1.79507438,  1.50446444],\n",
       "       [ 2.25218698,  2.19984541],\n",
       "       [ 1.62911482,  2.01252596],\n",
       "       [ 2.25114458,  1.73442191],\n",
       "       [ 1.93025663,  1.90609138],\n",
       "       [ 2.01115171,  2.16052333],\n",
       "       [ 2.19445692,  1.71935638],\n",
       "       [ 2.02828728,  2.63244725],\n",
       "       [ 1.98386307,  2.08521913],\n",
       "       [ 2.06018417,  1.47700991],\n",
       "       [-2.1773701 , -1.52115401],\n",
       "       [-2.17267166, -1.6954044 ],\n",
       "       [-2.05505033, -1.9828941 ],\n",
       "       [-2.10430668, -2.18121107],\n",
       "       [-1.17670758, -1.62891705],\n",
       "       [-1.20542853, -1.9105859 ],\n",
       "       [-1.83461271, -2.14401522],\n",
       "       [-2.3510347 , -1.99995235],\n",
       "       [-1.53260818, -1.78146474],\n",
       "       [-2.10111901, -2.19078637],\n",
       "       [-1.86457141, -1.89673514],\n",
       "       [-2.32918244, -2.12796886],\n",
       "       [-1.6643131 , -1.84379873],\n",
       "       [-2.05008727, -2.0270397 ],\n",
       "       [-2.2772805 , -1.48841697],\n",
       "       [-1.86568342, -2.077945  ],\n",
       "       [-2.56889834, -1.45079657],\n",
       "       [-2.07972286, -1.9377388 ],\n",
       "       [-1.89378324, -2.00169733],\n",
       "       [-1.89653658, -1.77905857],\n",
       "       [-2.13556836, -1.87900786],\n",
       "       [-1.95075948, -1.79607551],\n",
       "       [-1.28707883, -2.32434354],\n",
       "       [-1.67878207, -2.03785527],\n",
       "       [-2.1037748 , -1.84785136],\n",
       "       [-2.05020463, -2.39205436],\n",
       "       [-1.92738862, -2.12962184],\n",
       "       [-2.78281022, -1.91575385],\n",
       "       [-1.68281654, -2.28068433],\n",
       "       [-2.29224186, -1.21749657],\n",
       "       [-1.89374465, -1.8744539 ],\n",
       "       [-2.23797615, -2.00562107],\n",
       "       [-1.70056677, -1.96359691],\n",
       "       [-2.03045611, -1.57430601],\n",
       "       [-2.04395336, -1.71145252],\n",
       "       [-1.65317287, -1.82047516],\n",
       "       [-1.93332299, -1.43901881],\n",
       "       [-1.61868367, -2.33709665],\n",
       "       [-1.52326224, -1.65338594],\n",
       "       [-2.07237888, -2.09840097],\n",
       "       [-2.11740165, -2.08131626],\n",
       "       [-1.92116542, -1.82029643],\n",
       "       [-2.07797755, -2.23645141],\n",
       "       [-1.99965417, -1.90908499],\n",
       "       [-1.78986983, -1.97651261],\n",
       "       [-1.90892813, -1.81897009],\n",
       "       [-2.15202567, -1.66647856],\n",
       "       [-2.23203233, -1.62302523],\n",
       "       [-1.84938009, -1.68501537],\n",
       "       [-1.97571158, -1.96448947],\n",
       "       [-1.73662347, -2.17537727],\n",
       "       [-2.1794647 , -1.66586337],\n",
       "       [-2.16318264, -1.99459355],\n",
       "       [-2.21600329, -2.07276172],\n",
       "       [-1.54811058, -2.38227412],\n",
       "       [-1.91486178, -1.99339531],\n",
       "       [-1.73889815, -2.18432114],\n",
       "       [-2.19748691, -1.28317391],\n",
       "       [-1.83904258, -1.91648646],\n",
       "       [-2.0659485 , -2.07443824],\n",
       "       [-1.94015269, -1.92214265],\n",
       "       [-2.13257662, -2.19365074],\n",
       "       [-2.2056577 , -1.8685602 ],\n",
       "       [-2.14937998, -2.00737221],\n",
       "       [-2.23939465, -1.87976169],\n",
       "       [-2.34400792, -2.11530461],\n",
       "       [-1.96917951, -2.07126411],\n",
       "       [-2.2108668 , -1.65291225],\n",
       "       [-2.34911921, -1.66834316],\n",
       "       [-2.16711873, -1.50101344],\n",
       "       [-2.26666429, -2.06142239],\n",
       "       [-2.70968184, -2.23666821],\n",
       "       [-2.07990293, -1.60499858],\n",
       "       [-1.8469833 , -1.79184183],\n",
       "       [-1.96806328, -2.30337697],\n",
       "       [-1.87951257, -1.80816002],\n",
       "       [-1.9536206 , -2.14807362],\n",
       "       [-2.2298091 , -2.08607644],\n",
       "       [-1.86063975, -1.88364379],\n",
       "       [-1.83467369, -1.77960253],\n",
       "       [-2.02830036, -1.96352743],\n",
       "       [-2.31394125, -2.09146787],\n",
       "       [-2.3219404 , -2.21691822],\n",
       "       [-1.45173019, -1.99561419],\n",
       "       [-2.03705973, -2.35092718],\n",
       "       [-2.03232522, -2.08389162],\n",
       "       [-1.44765167, -1.85442342],\n",
       "       [-2.38754326, -2.1622247 ],\n",
       "       [-2.1193637 , -2.59759038],\n",
       "       [-1.94978945, -1.89833342],\n",
       "       [-2.20492562, -2.49553556],\n",
       "       [-1.74781302, -1.80015459],\n",
       "       [-2.37088518, -1.98747404],\n",
       "       [-1.74885542, -2.26557809],\n",
       "       [-2.06974337, -2.09390862],\n",
       "       [-1.98884829, -1.83947667],\n",
       "       [-1.80554308, -2.28064362],\n",
       "       [-1.97171272, -1.36755275],\n",
       "       [-2.01613693, -1.91478087],\n",
       "       [-1.93981583, -2.52299009]])"
      ]
     },
     "execution_count": 2,
     "metadata": {},
     "output_type": "execute_result"
    }
   ],
   "source": [
    "xx, yy = np.meshgrid(np.linspace(-5, 5, 500), np.linspace(-5, 5, 500))\n",
    "# Generate train data\n",
    "X = 0.3 * np.random.randn(100, 2)\n",
    "X_train = np.r_[X + 2, X - 2]\n",
    "X_train"
   ]
  },
  {
   "cell_type": "code",
   "execution_count": 3,
   "metadata": {},
   "outputs": [
    {
     "data": {
      "text/plain": [
       "array([[ 2.20727902,  2.26533135],\n",
       "       [ 2.03587076,  1.21552181],\n",
       "       [ 2.47264183,  2.38846435],\n",
       "       [ 2.07672126,  2.23642154],\n",
       "       [ 2.45851696,  1.85032513],\n",
       "       [ 2.27800721,  2.33550552],\n",
       "       [ 1.93283903,  1.98798912],\n",
       "       [ 2.1754905 ,  1.43046684],\n",
       "       [ 2.02543463,  2.65856314],\n",
       "       [ 2.60060135,  2.53548131],\n",
       "       [ 1.54173285,  1.89827134],\n",
       "       [ 2.24786503,  2.32939552],\n",
       "       [ 2.69318829,  2.15098091],\n",
       "       [ 1.60000532,  2.30569538],\n",
       "       [ 2.07619716,  2.1577937 ],\n",
       "       [ 2.31182153,  1.7741729 ],\n",
       "       [ 2.22165284,  2.61912894],\n",
       "       [ 1.8906642 ,  2.12461049],\n",
       "       [ 2.25246403,  2.23575315],\n",
       "       [ 1.84461837,  2.06854028],\n",
       "       [-1.79272098, -1.73466865],\n",
       "       [-1.96412924, -2.78447819],\n",
       "       [-1.52735817, -1.61153565],\n",
       "       [-1.92327874, -1.76357846],\n",
       "       [-1.54148304, -2.14967487],\n",
       "       [-1.72199279, -1.66449448],\n",
       "       [-2.06716097, -2.01201088],\n",
       "       [-1.8245095 , -2.56953316],\n",
       "       [-1.97456537, -1.34143686],\n",
       "       [-1.39939865, -1.46451869],\n",
       "       [-2.45826715, -2.10172866],\n",
       "       [-1.75213497, -1.67060448],\n",
       "       [-1.30681171, -1.84901909],\n",
       "       [-2.39999468, -1.69430462],\n",
       "       [-1.92380284, -1.8422063 ],\n",
       "       [-1.68817847, -2.2258271 ],\n",
       "       [-1.77834716, -1.38087106],\n",
       "       [-2.1093358 , -1.87538951],\n",
       "       [-1.74753597, -1.76424685],\n",
       "       [-2.15538163, -1.93145972]])"
      ]
     },
     "execution_count": 3,
     "metadata": {},
     "output_type": "execute_result"
    }
   ],
   "source": [
    "# Generate some regular novel observations\n",
    "X = 0.3 * np.random.randn(20, 2)\n",
    "X_test = np.r_[X + 2, X - 2]\n",
    "X_test"
   ]
  },
  {
   "cell_type": "code",
   "execution_count": 4,
   "metadata": {},
   "outputs": [
    {
     "data": {
      "text/plain": [
       "array([[-0.67621556,  1.78787098],\n",
       "       [-0.44452365, -3.63314925],\n",
       "       [ 1.98777288, -2.87256247],\n",
       "       [-0.47850958,  1.49296059],\n",
       "       [-0.91224392, -3.25723184],\n",
       "       [ 0.25542927, -0.97246615],\n",
       "       [-2.62847707,  1.80589716],\n",
       "       [ 2.28148819, -0.72874274],\n",
       "       [-0.55570371, -3.83147278],\n",
       "       [ 1.69980416, -0.61140362],\n",
       "       [-0.17376914, -1.67328974],\n",
       "       [ 2.98676994,  3.7183651 ],\n",
       "       [-1.66566706, -2.18933252],\n",
       "       [-2.30106716, -0.40972216],\n",
       "       [ 0.55899335,  2.06955391],\n",
       "       [ 1.08584928,  0.77939489],\n",
       "       [ 0.24686553, -1.60699152],\n",
       "       [-1.66358105, -3.23181279],\n",
       "       [-0.07368586, -2.78075176],\n",
       "       [ 1.40844623,  1.84687512]])"
      ]
     },
     "execution_count": 4,
     "metadata": {},
     "output_type": "execute_result"
    }
   ],
   "source": [
    "# Generate some abnormal novel observations\n",
    "X_outliers = np.random.uniform(low=-4, high=4, size=(20, 2))\n",
    "X_outliers"
   ]
  },
  {
   "cell_type": "code",
   "execution_count": 6,
   "metadata": {},
   "outputs": [],
   "source": [
    "# fit the model\n",
    "clf = svm.OneClassSVM(nu=0.1, kernel=\"rbf\", gamma=0.1)\n",
    "clf.fit(X_train)\n",
    "y_pred_train = clf.predict(X_train)\n",
    "y_pred_test = clf.predict(X_test)\n",
    "y_pred_outliers = clf.predict(X_outliers)"
   ]
  },
  {
   "cell_type": "code",
   "execution_count": 7,
   "metadata": {},
   "outputs": [
    {
     "data": {
      "text/plain": [
       "20"
      ]
     },
     "execution_count": 7,
     "metadata": {},
     "output_type": "execute_result"
    }
   ],
   "source": [
    "n_error_train = y_pred_train[y_pred_train == -1].size\n",
    "n_error_train"
   ]
  },
  {
   "cell_type": "code",
   "execution_count": 8,
   "metadata": {},
   "outputs": [
    {
     "data": {
      "text/plain": [
       "9"
      ]
     },
     "execution_count": 8,
     "metadata": {},
     "output_type": "execute_result"
    }
   ],
   "source": [
    "n_error_test = y_pred_test[y_pred_test == -1].size\n",
    "n_error_test"
   ]
  },
  {
   "cell_type": "code",
   "execution_count": 9,
   "metadata": {},
   "outputs": [
    {
     "data": {
      "text/plain": [
       "2"
      ]
     },
     "execution_count": 9,
     "metadata": {},
     "output_type": "execute_result"
    }
   ],
   "source": [
    "n_error_outliers = y_pred_outliers[y_pred_outliers == 1].size\n",
    "n_error_outliers"
   ]
  },
  {
   "cell_type": "code",
   "execution_count": 10,
   "metadata": {},
   "outputs": [
    {
     "data": {
      "image/png": "[encoded data removed]",
      "text/plain": [
       "<Figure size 640x480 with 1 Axes>"
      ]
     },
     "metadata": {},
     "output_type": "display_data"
    }
   ],
   "source": [
    "# plot the line, the points, and the nearest vectors to the plane\n",
    "Z = clf.decision_function(np.c_[xx.ravel(), yy.ravel()])\n",
    "Z = Z.reshape(xx.shape)\n",
    "\n",
    "plt.title(\"Novelty Detection\")\n",
    "plt.contourf(xx, yy, Z, levels=np.linspace(Z.min(), 0, 7), cmap=plt.cm.PuBu)\n",
    "a = plt.contour(xx, yy, Z, levels=[0], linewidths=2, colors=\"darkred\")\n",
    "plt.contourf(xx, yy, Z, levels=[0, Z.max()], colors=\"palevioletred\")\n",
    "\n",
    "s = 40\n",
    "b1 = plt.scatter(X_train[:, 0], X_train[:, 1], c=\"white\", s=s, edgecolors=\"k\")\n",
    "b2 = plt.scatter(X_test[:, 0], X_test[:, 1], c=\"blueviolet\", s=s, edgecolors=\"k\")\n",
    "c = plt.scatter(X_outliers[:, 0], X_outliers[:, 1], c=\"gold\", s=s, edgecolors=\"k\")\n",
    "plt.axis(\"tight\")\n",
    "plt.xlim((-5, 5))\n",
    "plt.ylim((-5, 5))\n",
    "plt.legend(\n",
    "    [a.collections[0], b1, b2, c],\n",
    "    [\n",
    "        \"learned frontier\",\n",
    "        \"training observations\",\n",
    "        \"new regular observations\",\n",
    "        \"new abnormal observations\",\n",
    "    ],\n",
    "    loc=\"upper left\",\n",
    "    prop=matplotlib.font_manager.FontProperties(size=11),\n",
    ")\n",
    "plt.xlabel(\n",
    "    \"error train: %d/200 ; errors novel regular: %d/40 ; errors novel abnormal: %d/40\"\n",
    "    % (n_error_train, n_error_test, n_error_outliers)\n",
    ")\n",
    "plt.show()"
   ]
  },
  {
   "cell_type": "code",
   "execution_count": null,
   "metadata": {},
   "outputs": [],
   "source": []
  }
 ],
 "metadata": {
  "kernelspec": {
   "display_name": "Python 3.10.7 64-bit",
   "language": "python",
   "name": "python3"
  },
  "language_info": {
   "codemirror_mode": {
    "name": "ipython",
    "version": 3
   },
   "file_extension": ".py",
   "mimetype": "text/x-python",
   "name": "python",
   "nbconvert_exporter": "python",
   "pygments_lexer": "ipython3",
   "version": "3.10.7"
  },
  "orig_nbformat": 4,
  "vscode": {
   "interpreter": {
    "hash": "aee8b7b246df8f9039afb4144a1f6fd8d2ca17a180786b69acc140d282b71a49"
   }
  }
 },
 "nbformat": 4,
 "nbformat_minor": 2
}
